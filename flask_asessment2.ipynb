{
 "cells": [
  {
   "cell_type": "code",
   "execution_count": 1,
   "metadata": {},
   "outputs": [],
   "source": [
    "#Explain GET and POST methods."
   ]
  },
  {
   "cell_type": "code",
   "execution_count": 2,
   "metadata": {},
   "outputs": [
    {
     "data": {
      "text/plain": [
       "' \\nGET and POST are two HTTP methods used in web development to perform different types of requests. These methods define how data is sent and processed between a client (usually a web browser) and a server.\\n\\nGET Method:\\nPurpose: The GET method is used to request data from a specified resource.\\nData in URL: Parameters and data are appended to the URL in the form of key-value pairs. For example, in https://example.com/resource?param1=value1&param2=value2, the parameters are included in the URL.\\nVisibility: Since the data is included in the URL, it is visible to users and can be bookmarked. However, this makes it less secure for sensitive information.\\nCaching: GET requests can be cached by browsers, which means that if the same request is made again, the browser may use the cached response instead of making a new request to the server.\\nIdempotent: GET requests are considered idempotent, meaning that making the same request multiple times has the same effect as making it once.\\nExample of a GET request in HTML:\\n\\n\\n<form action=\"/resource\" method=\"get\">\\n  <input type=\"text\" name=\"param1\" value=\"value1\">\\n  <input type=\"text\" name=\"param2\" value=\"value2\">\\n  <input type=\"submit\" value=\"Submit\">\\n</form>\\nPOST Method:\\nPurpose: The POST method is used to submit data to be processed to a specified resource.\\nData in Body: Parameters and data are sent in the request body rather than in the URL. This makes it more suitable for sending larger amounts of data or sensitive information.\\nVisibility: Since the data is not appended to the URL, it is not visible to users and cannot be easily bookmarked. This provides better security for sensitive information.\\nCaching: POST requests are typically not cached by browsers, as they may have side effects on the server, and caching could lead to unintended consequences.\\nNot Idempotent: POST requests are not considered idempotent because making the same request multiple times may have different effects.\\nExample of a POST request in HTML:\\n\\n\\n<form action=\"/resource\" method=\"post\">\\n  <input type=\"text\" name=\"param1\" value=\"value1\">\\n  <input type=\"text\" name=\"param2\" value=\"value2\">\\n  <input type=\"submit\" value=\"Submit\">\\n</form>\\n'"
      ]
     },
     "execution_count": 2,
     "metadata": {},
     "output_type": "execute_result"
    }
   ],
   "source": [
    "''' \n",
    "GET and POST are two HTTP methods used in web development to perform different types of requests. These methods define how data is sent and processed between a client (usually a web browser) and a server.\n",
    "\n",
    "GET Method:\n",
    "Purpose: The GET method is used to request data from a specified resource.\n",
    "Data in URL: Parameters and data are appended to the URL in the form of key-value pairs. For example, in https://example.com/resource?param1=value1&param2=value2, the parameters are included in the URL.\n",
    "Visibility: Since the data is included in the URL, it is visible to users and can be bookmarked. However, this makes it less secure for sensitive information.\n",
    "Caching: GET requests can be cached by browsers, which means that if the same request is made again, the browser may use the cached response instead of making a new request to the server.\n",
    "Idempotent: GET requests are considered idempotent, meaning that making the same request multiple times has the same effect as making it once.\n",
    "Example of a GET request in HTML:\n",
    "\n",
    "\n",
    "<form action=\"/resource\" method=\"get\">\n",
    "  <input type=\"text\" name=\"param1\" value=\"value1\">\n",
    "  <input type=\"text\" name=\"param2\" value=\"value2\">\n",
    "  <input type=\"submit\" value=\"Submit\">\n",
    "</form>\n",
    "POST Method:\n",
    "Purpose: The POST method is used to submit data to be processed to a specified resource.\n",
    "Data in Body: Parameters and data are sent in the request body rather than in the URL. This makes it more suitable for sending larger amounts of data or sensitive information.\n",
    "Visibility: Since the data is not appended to the URL, it is not visible to users and cannot be easily bookmarked. This provides better security for sensitive information.\n",
    "Caching: POST requests are typically not cached by browsers, as they may have side effects on the server, and caching could lead to unintended consequences.\n",
    "Not Idempotent: POST requests are not considered idempotent because making the same request multiple times may have different effects.\n",
    "Example of a POST request in HTML:\n",
    "\n",
    "\n",
    "<form action=\"/resource\" method=\"post\">\n",
    "  <input type=\"text\" name=\"param1\" value=\"value1\">\n",
    "  <input type=\"text\" name=\"param2\" value=\"value2\">\n",
    "  <input type=\"submit\" value=\"Submit\">\n",
    "</form>\n",
    "'''"
   ]
  },
  {
   "cell_type": "code",
   "execution_count": 3,
   "metadata": {},
   "outputs": [],
   "source": [
    "#Q2. Why is request used in Flask?"
   ]
  },
  {
   "cell_type": "code",
   "execution_count": 4,
   "metadata": {},
   "outputs": [
    {
     "data": {
      "text/plain": [
       "' \\n\\nIn Flask, the request object is used to access incoming request data in a Flask application. It provides a way for developers to retrieve information about the current HTTP request made by the client, including data sent with the request, such as form data, query parameters, and more.\"\\n'"
      ]
     },
     "execution_count": 4,
     "metadata": {},
     "output_type": "execute_result"
    }
   ],
   "source": [
    "''' \n",
    "\n",
    "In Flask, the request object is used to access incoming request data in a Flask application. It provides a way for developers to retrieve information about the current HTTP request made by the client, including data sent with the request, such as form data, query parameters, and more.\"\n",
    "'''"
   ]
  },
  {
   "cell_type": "code",
   "execution_count": 5,
   "metadata": {},
   "outputs": [],
   "source": [
    "#Q3. Why is redirect() used in Flask?"
   ]
  },
  {
   "cell_type": "code",
   "execution_count": 6,
   "metadata": {},
   "outputs": [
    {
     "data": {
      "text/plain": [
       "\"  \\n\\nIn Flask, the redirect() function is used to redirect the client's web browser to a different URL. This is often employed in web applications to guide users to a new page or route after performing a certain action, such as submitting a form or processing some data. The redirect() function helps manage the flow of the application by sending an HTTP redirect response to the client.\\n\""
      ]
     },
     "execution_count": 6,
     "metadata": {},
     "output_type": "execute_result"
    }
   ],
   "source": [
    "'''  \n",
    "\n",
    "In Flask, the redirect() function is used to redirect the client's web browser to a different URL. This is often employed in web applications to guide users to a new page or route after performing a certain action, such as submitting a form or processing some data. The redirect() function helps manage the flow of the application by sending an HTTP redirect response to the client.\n",
    "'''"
   ]
  },
  {
   "cell_type": "code",
   "execution_count": 7,
   "metadata": {},
   "outputs": [],
   "source": [
    "#Q4. What are templates in Flask? Why is the render_template() function used?"
   ]
  },
  {
   "cell_type": "code",
   "execution_count": 8,
   "metadata": {},
   "outputs": [
    {
     "data": {
      "text/plain": [
       "' \\nIn Flask, templates are used to generate dynamic HTML content by combining static HTML with placeholders for dynamic data. Templates allow developers to separate the presentation logic from the application logic, making the code more modular and maintainable.\\n\\nHere are key points about templates in Flask:\\n\\n1. **Jinja2 Templating Engine:** Flask uses the Jinja2 templating engine, which provides a powerful and flexible way to embed dynamic content in HTML files. Jinja2 templates use double curly braces (`{{ ... }}`) to enclose expressions and control structures.\\n\\n2. **Dynamic Content:** With templates, you can dynamically insert data into HTML pages based on the values of variables passed from the Flask application. This enables the creation of dynamic, data-driven web pages.\\n\\n3. **Template Inheritance:** Jinja2 supports template inheritance, allowing you to create a base template with a common structure (e.g., header, footer) and extend or override specific blocks in child templates.\\n\\nThe `render_template()` function in Flask is used to render templates and generate HTML responses. It takes the template file\\'s name as an argument, along with any data that needs to be passed to the template. The template file is typically stored in a folder named \"templates\" within the Flask application directory.\\n\\nHere\\'s an example of using `render_template()` in a Flask route:\\n\\n```python\\nfrom flask import Flask, render_template\\n\\napp = Flask(__name__)\\n\\n@app.route(\\'/\\')\\ndef index():\\n    # Pass data to the template\\n    data = {\\'title\\': \\'Flask Templates\\', \\'content\\': \\'Hello, Flask!\\'}\\n    return render_template(\\'index.html\\', data=data)\\n```\\n\\nIn this example:\\n\\n- The `render_template()` function is used to render the `index.html` template.\\n- The `data` dictionary contains variables that can be accessed within the template.\\n\\nNow, in the `index.html` template file, you might have something like:\\n\\n```html\\n<!DOCTYPE html>\\n<html>\\n<head>\\n    <title>{{ data.title }}</title>\\n</head>\\n<body>\\n    <h1>{{ data.content }}</h1>\\n</body>\\n</html>\\n```\\n\\nWhen a user accesses the `\\'/\\'` route, Flask will render the `index.html` template with the provided data, replacing the placeholders (`{{ ... }}`) with the actual values.\\n\\nUsing `render_template()` helps maintain a separation of concerns in web development, making it easier to manage the presentation layer independently from the application logic. It also facilitates code reuse through template inheritance and provides a more organized structure for building web applications.\\n'"
      ]
     },
     "execution_count": 8,
     "metadata": {},
     "output_type": "execute_result"
    }
   ],
   "source": [
    "''' \n",
    "In Flask, templates are used to generate dynamic HTML content by combining static HTML with placeholders for dynamic data. Templates allow developers to separate the presentation logic from the application logic, making the code more modular and maintainable.\n",
    "\n",
    "Here are key points about templates in Flask:\n",
    "\n",
    "1. **Jinja2 Templating Engine:** Flask uses the Jinja2 templating engine, which provides a powerful and flexible way to embed dynamic content in HTML files. Jinja2 templates use double curly braces (`{{ ... }}`) to enclose expressions and control structures.\n",
    "\n",
    "2. **Dynamic Content:** With templates, you can dynamically insert data into HTML pages based on the values of variables passed from the Flask application. This enables the creation of dynamic, data-driven web pages.\n",
    "\n",
    "3. **Template Inheritance:** Jinja2 supports template inheritance, allowing you to create a base template with a common structure (e.g., header, footer) and extend or override specific blocks in child templates.\n",
    "\n",
    "The `render_template()` function in Flask is used to render templates and generate HTML responses. It takes the template file's name as an argument, along with any data that needs to be passed to the template. The template file is typically stored in a folder named \"templates\" within the Flask application directory.\n",
    "\n",
    "Here's an example of using `render_template()` in a Flask route:\n",
    "\n",
    "```python\n",
    "from flask import Flask, render_template\n",
    "\n",
    "app = Flask(__name__)\n",
    "\n",
    "@app.route('/')\n",
    "def index():\n",
    "    # Pass data to the template\n",
    "    data = {'title': 'Flask Templates', 'content': 'Hello, Flask!'}\n",
    "    return render_template('index.html', data=data)\n",
    "```\n",
    "\n",
    "In this example:\n",
    "\n",
    "- The `render_template()` function is used to render the `index.html` template.\n",
    "- The `data` dictionary contains variables that can be accessed within the template.\n",
    "\n",
    "Now, in the `index.html` template file, you might have something like:\n",
    "\n",
    "```html\n",
    "<!DOCTYPE html>\n",
    "<html>\n",
    "<head>\n",
    "    <title>{{ data.title }}</title>\n",
    "</head>\n",
    "<body>\n",
    "    <h1>{{ data.content }}</h1>\n",
    "</body>\n",
    "</html>\n",
    "```\n",
    "\n",
    "When a user accesses the `'/'` route, Flask will render the `index.html` template with the provided data, replacing the placeholders (`{{ ... }}`) with the actual values.\n",
    "\n",
    "Using `render_template()` helps maintain a separation of concerns in web development, making it easier to manage the presentation layer independently from the application logic. It also facilitates code reuse through template inheritance and provides a more organized structure for building web applications.\n",
    "'''"
   ]
  },
  {
   "cell_type": "code",
   "execution_count": 9,
   "metadata": {},
   "outputs": [
    {
     "data": {
      "text/plain": [
       "'  Q5. Create a simple API. Use Postman to test it. Attach the screenshot of the output in the Jupyter Notebook.'"
      ]
     },
     "execution_count": 9,
     "metadata": {},
     "output_type": "execute_result"
    }
   ],
   "source": [
    "'''  Q5. Create a simple API. Use Postman to test it. Attach the screenshot of the output in the Jupyter Notebook.'''"
   ]
  },
  {
   "cell_type": "code",
   "execution_count": 11,
   "metadata": {},
   "outputs": [
    {
     "name": "stdout",
     "output_type": "stream",
     "text": [
      " * Serving Flask app '__main__'\n",
      " * Debug mode: off\n"
     ]
    },
    {
     "name": "stderr",
     "output_type": "stream",
     "text": [
      "WARNING: This is a development server. Do not use it in a production deployment. Use a production WSGI server instead.\n",
      " * Running on http://127.0.0.1:5000\n",
      "Press CTRL+C to quit\n",
      "127.0.0.1 - - [18/Dec/2023 01:13:56] \"GET / HTTP/1.1\" 404 -\n",
      "127.0.0.1 - - [18/Dec/2023 01:14:02] \"GET / HTTP/1.1\" 404 -\n",
      "127.0.0.1 - - [18/Dec/2023 01:14:27] \"GET / HTTP/1.1\" 404 -\n",
      "127.0.0.1 - - [18/Dec/2023 01:14:37] \"GET /api/hello HTTP/1.1\" 200 -\n",
      "127.0.0.1 - - [18/Dec/2023 01:19:30] \"GET /api/hello HTTP/1.1\" 200 -\n"
     ]
    }
   ],
   "source": [
    "from flask import Flask, jsonify\n",
    "\n",
    "app = Flask(__name__)\n",
    "\n",
    "@app.route('/api/hello', methods=['GET'])\n",
    "def hello():\n",
    "    return jsonify(message='Hello, API!')\n",
    "\n",
    "if __name__ == '__main__':\n",
    "    app.run()\n"
   ]
  },
  {
   "cell_type": "code",
   "execution_count": null,
   "metadata": {},
   "outputs": [],
   "source": []
  }
 ],
 "metadata": {
  "kernelspec": {
   "display_name": "Python 3",
   "language": "python",
   "name": "python3"
  },
  "language_info": {
   "codemirror_mode": {
    "name": "ipython",
    "version": 3
   },
   "file_extension": ".py",
   "mimetype": "text/x-python",
   "name": "python",
   "nbconvert_exporter": "python",
   "pygments_lexer": "ipython3",
   "version": "3.11.7"
  }
 },
 "nbformat": 4,
 "nbformat_minor": 2
}
